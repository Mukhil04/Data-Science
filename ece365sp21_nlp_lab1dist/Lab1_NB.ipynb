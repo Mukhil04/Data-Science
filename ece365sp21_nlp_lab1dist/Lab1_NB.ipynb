{
 "cells": [
  {
   "cell_type": "markdown",
   "metadata": {},
   "source": [
    "# Lab 1: Exploring languages through word frequencies"
   ]
  },
  {
   "cell_type": "markdown",
   "metadata": {},
   "source": [
    "## Learning Objectives:\n",
    "In this lab you will learn the following linguistic concepts and programming skills:\n",
    "* Basic text processing and regular expressions.\n",
    "* What do word frequencies tell us about a language?\n",
    "* How do different languages compare?\n",
    "* How to manipulate corpora and plot insightful graphs?"
   ]
  },
  {
   "cell_type": "markdown",
   "metadata": {},
   "source": [
    "## About this assignment\n",
    "\n",
    "- This is a Jupyter notebook. You can execute cell blocks by pressing control-enter.\n",
    "- You will be submitting the lab1.py file on Gradescope.\n",
    "- We have provided local access to the Gradescope autograder test cases. In order to run the test cases locally, simply run <code>python run_tests.py</code> or <code>python run_tests.py -j</code> (this commands gives information about the performance on each test case in the form of a readable json object)."
   ]
  },
  {
   "cell_type": "markdown",
   "metadata": {},
   "source": [
    "## Pre-requisites:\n",
    "For this lab, you need to make sure you have the following installed:\n",
    "* python3.6 (python2.7 should also work)\n",
    "* nltk (python package)\n",
    "* matplotlib\n",
    "\n",
    "To make sure your installation is successful, execute the block below."
   ]
  },
  {
   "cell_type": "code",
   "execution_count": 115,
   "metadata": {},
   "outputs": [
    {
     "name": "stderr",
     "output_type": "stream",
     "text": [
      "[nltk_data] Downloading package wordnet to\n",
      "[nltk_data]     /Users/mukhilshankar/nltk_data...\n",
      "[nltk_data]   Unzipping corpora/wordnet.zip.\n"
     ]
    },
    {
     "data": {
      "text/plain": [
       "True"
      ]
     },
     "execution_count": 115,
     "metadata": {},
     "output_type": "execute_result"
    }
   ],
   "source": [
    "import nltk\n",
    "import matplotlib\n",
    "import importlib\n",
    "nltk.download('wordnet')"
   ]
  },
  {
   "cell_type": "code",
   "execution_count": 44,
   "metadata": {},
   "outputs": [],
   "source": [
    "import lab1"
   ]
  },
  {
   "cell_type": "markdown",
   "metadata": {},
   "source": [
    "As a packaged solution, I would recommend installing [conda](https://docs.conda.io/en/latest/miniconda.html), and creating a conda [environment](https://docs.conda.io/projects/conda/en/latest/user-guide/tasks/manage-environments.html) 'ece365_nlp' to use for the rest of this module."
   ]
  },
  {
   "cell_type": "markdown",
   "metadata": {},
   "source": [
    "## Exercise 1: Working With Text"
   ]
  },
  {
   "cell_type": "markdown",
   "metadata": {},
   "source": [
    "Before getting started, let's work with some simple text processing! "
   ]
  },
  {
   "cell_type": "code",
   "execution_count": 3,
   "metadata": {},
   "outputs": [
    {
     "data": {
      "text/plain": [
       "76"
      ]
     },
     "execution_count": 3,
     "metadata": {},
     "output_type": "execute_result"
    }
   ],
   "source": [
    "text1 = \"Ethics are built right into the ideals and objectives of the United Nations \"\n",
    "\n",
    "len(text1) # The length of text1 (String Length)"
   ]
  },
  {
   "cell_type": "code",
   "execution_count": 4,
   "metadata": {},
   "outputs": [
    {
     "data": {
      "text/plain": [
       "14"
      ]
     },
     "execution_count": 4,
     "metadata": {},
     "output_type": "execute_result"
    }
   ],
   "source": [
    "text2 = text1.split(' ') # Return a list of the words in text2, separating by ' '.\n",
    "len(text2) # Word Length"
   ]
  },
  {
   "cell_type": "code",
   "execution_count": 5,
   "metadata": {},
   "outputs": [
    {
     "data": {
      "text/plain": [
       "['Ethics',\n",
       " 'are',\n",
       " 'built',\n",
       " 'right',\n",
       " 'into',\n",
       " 'the',\n",
       " 'ideals',\n",
       " 'and',\n",
       " 'objectives',\n",
       " 'of',\n",
       " 'the',\n",
       " 'United',\n",
       " 'Nations',\n",
       " '']"
      ]
     },
     "execution_count": 5,
     "metadata": {},
     "output_type": "execute_result"
    }
   ],
   "source": [
    "text2"
   ]
  },
  {
   "cell_type": "markdown",
   "metadata": {},
   "source": [
    "<br>\n",
    "List comprehension allows us to find specific words:"
   ]
  },
  {
   "cell_type": "code",
   "execution_count": 6,
   "metadata": {},
   "outputs": [
    {
     "data": {
      "text/plain": [
       "['Ethics',\n",
       " 'built',\n",
       " 'right',\n",
       " 'into',\n",
       " 'ideals',\n",
       " 'objectives',\n",
       " 'United',\n",
       " 'Nations']"
      ]
     },
     "execution_count": 6,
     "metadata": {},
     "output_type": "execute_result"
    }
   ],
   "source": [
    "[w for w in text2 if len(w) > 3] # Words that are greater than 3 letters long in text2"
   ]
  },
  {
   "cell_type": "code",
   "execution_count": 7,
   "metadata": {},
   "outputs": [
    {
     "data": {
      "text/plain": [
       "['Ethics', 'United', 'Nations']"
      ]
     },
     "execution_count": 7,
     "metadata": {},
     "output_type": "execute_result"
    }
   ],
   "source": [
    "[w for w in text2 if w.istitle()] # Capitalized words in text2"
   ]
  },
  {
   "cell_type": "code",
   "execution_count": 8,
   "metadata": {},
   "outputs": [
    {
     "data": {
      "text/plain": [
       "['Ethics', 'ideals', 'objectives', 'Nations']"
      ]
     },
     "execution_count": 8,
     "metadata": {},
     "output_type": "execute_result"
    }
   ],
   "source": [
    "[w for w in text2 if w.endswith('s')] # Words in text2 that end in 's'"
   ]
  },
  {
   "cell_type": "markdown",
   "metadata": {},
   "source": [
    "<br>\n",
    "We can find unique words using 'set()'."
   ]
  },
  {
   "cell_type": "code",
   "execution_count": 9,
   "metadata": {},
   "outputs": [
    {
     "data": {
      "text/plain": [
       "6"
      ]
     },
     "execution_count": 9,
     "metadata": {},
     "output_type": "execute_result"
    }
   ],
   "source": [
    "text3 = 'To be or not to be'\n",
    "text4 = text3.split(' ')\n",
    "\n",
    "len(text4)"
   ]
  },
  {
   "cell_type": "code",
   "execution_count": 10,
   "metadata": {},
   "outputs": [
    {
     "data": {
      "text/plain": [
       "5"
      ]
     },
     "execution_count": 10,
     "metadata": {},
     "output_type": "execute_result"
    }
   ],
   "source": [
    "len(set(text4))"
   ]
  },
  {
   "cell_type": "code",
   "execution_count": 11,
   "metadata": {},
   "outputs": [
    {
     "data": {
      "text/plain": [
       "{'To', 'be', 'not', 'or', 'to'}"
      ]
     },
     "execution_count": 11,
     "metadata": {},
     "output_type": "execute_result"
    }
   ],
   "source": [
    "set(text4)"
   ]
  },
  {
   "cell_type": "code",
   "execution_count": 12,
   "metadata": {},
   "outputs": [
    {
     "data": {
      "text/plain": [
       "4"
      ]
     },
     "execution_count": 12,
     "metadata": {},
     "output_type": "execute_result"
    }
   ],
   "source": [
    "len(set([w.lower() for w in text4])) # .lower converts the string to lowercase."
   ]
  },
  {
   "cell_type": "code",
   "execution_count": 13,
   "metadata": {},
   "outputs": [
    {
     "data": {
      "text/plain": [
       "{'be', 'not', 'or', 'to'}"
      ]
     },
     "execution_count": 13,
     "metadata": {},
     "output_type": "execute_result"
    }
   ],
   "source": [
    "set([w.lower() for w in text4])"
   ]
  },
  {
   "cell_type": "markdown",
   "metadata": {},
   "source": [
    "### Processing free-text"
   ]
  },
  {
   "cell_type": "code",
   "execution_count": 14,
   "metadata": {},
   "outputs": [
    {
     "data": {
      "text/plain": [
       "['\"Ethics',\n",
       " 'are',\n",
       " 'built',\n",
       " 'right',\n",
       " 'into',\n",
       " 'the',\n",
       " 'ideals',\n",
       " 'and',\n",
       " 'objectives',\n",
       " 'of',\n",
       " 'the',\n",
       " 'United',\n",
       " 'Nations\"',\n",
       " '#UNSG',\n",
       " '@',\n",
       " 'NY',\n",
       " 'Society',\n",
       " 'for',\n",
       " 'Ethical',\n",
       " 'Culture',\n",
       " 'bit.ly/2guVelr']"
      ]
     },
     "execution_count": 14,
     "metadata": {},
     "output_type": "execute_result"
    }
   ],
   "source": [
    "text5 = '\"Ethics are built right into the ideals and objectives of the United Nations\" \\\n",
    "#UNSG @ NY Society for Ethical Culture bit.ly/2guVelr'\n",
    "text6 = text5.split(' ')\n",
    "\n",
    "text6"
   ]
  },
  {
   "cell_type": "markdown",
   "metadata": {},
   "source": [
    "<br>\n",
    "Finding hastags:"
   ]
  },
  {
   "cell_type": "code",
   "execution_count": 15,
   "metadata": {},
   "outputs": [
    {
     "data": {
      "text/plain": [
       "['#UNSG']"
      ]
     },
     "execution_count": 15,
     "metadata": {},
     "output_type": "execute_result"
    }
   ],
   "source": [
    "[w for w in text6 if w.startswith('#')]"
   ]
  },
  {
   "cell_type": "markdown",
   "metadata": {},
   "source": [
    "<br>\n",
    "Finding callouts:"
   ]
  },
  {
   "cell_type": "code",
   "execution_count": 16,
   "metadata": {},
   "outputs": [
    {
     "data": {
      "text/plain": [
       "['@']"
      ]
     },
     "execution_count": 16,
     "metadata": {},
     "output_type": "execute_result"
    }
   ],
   "source": [
    "[w for w in text6 if w.startswith('@')]"
   ]
  },
  {
   "cell_type": "code",
   "execution_count": 17,
   "metadata": {},
   "outputs": [
    {
     "data": {
      "text/plain": [
       "['@UN', '@UN_Women', '@']"
      ]
     },
     "execution_count": 17,
     "metadata": {},
     "output_type": "execute_result"
    }
   ],
   "source": [
    "text7 = '@UN @UN_Women \"Ethics are built right into the ideals and objectives of the United Nations\" \\\n",
    "#UNSG @ NY Society for Ethical Culture bit.ly/2guVelr'\n",
    "text8 = text7.split(' ')\n",
    "[w for w in text8 if w.startswith('@')]"
   ]
  },
  {
   "cell_type": "markdown",
   "metadata": {},
   "source": [
    "### Regular Expressions"
   ]
  },
  {
   "cell_type": "markdown",
   "metadata": {},
   "source": [
    "We can use regular expressions to help us with more complex parsing. A regular expression is a special sequence of characters that helps you match or find other strings or sets of strings, using a specialized syntax held in a pattern. Regular expressions are widely used in UNIX world.\n",
    "\n",
    "For example `'@[A-Za-z0-9_]+'` will return all words that: \n",
    "* start with `'@'` and are followed by at least one: \n",
    "* capital letter (`'A-Z'`)\n",
    "* lowercase letter (`'a-z'`) \n",
    "* number (`'0-9'`)\n",
    "* or underscore (`'_'`)"
   ]
  },
  {
   "cell_type": "code",
   "execution_count": 18,
   "metadata": {},
   "outputs": [
    {
     "data": {
      "text/plain": [
       "['@UN', '@UN_Women']"
      ]
     },
     "execution_count": 18,
     "metadata": {},
     "output_type": "execute_result"
    }
   ],
   "source": [
    "import re # import re - a module that provides support for regular expressions\n",
    "\n",
    "[w for w in text8 if re.search('@[A-Za-z0-9_]+', w)]"
   ]
  },
  {
   "cell_type": "markdown",
   "metadata": {},
   "source": [
    "Let's get more familiar with Regular Expression on pandas (pandas is a powerful open source data analysis Python tool.)!"
   ]
  },
  {
   "cell_type": "code",
   "execution_count": 19,
   "metadata": {
    "scrolled": true
   },
   "outputs": [
    {
     "data": {
      "text/html": [
       "<div>\n",
       "<style scoped>\n",
       "    .dataframe tbody tr th:only-of-type {\n",
       "        vertical-align: middle;\n",
       "    }\n",
       "\n",
       "    .dataframe tbody tr th {\n",
       "        vertical-align: top;\n",
       "    }\n",
       "\n",
       "    .dataframe thead th {\n",
       "        text-align: right;\n",
       "    }\n",
       "</style>\n",
       "<table border=\"1\" class=\"dataframe\">\n",
       "  <thead>\n",
       "    <tr style=\"text-align: right;\">\n",
       "      <th></th>\n",
       "      <th>text</th>\n",
       "    </tr>\n",
       "  </thead>\n",
       "  <tbody>\n",
       "    <tr>\n",
       "      <td>0</td>\n",
       "      <td>Monday: The doctor's appointment is at 2:45pm.</td>\n",
       "    </tr>\n",
       "    <tr>\n",
       "      <td>1</td>\n",
       "      <td>Tuesday: The dentist's appointment is at 11:30...</td>\n",
       "    </tr>\n",
       "    <tr>\n",
       "      <td>2</td>\n",
       "      <td>Wednesday: At 7:00pm, there is a basketball game!</td>\n",
       "    </tr>\n",
       "    <tr>\n",
       "      <td>3</td>\n",
       "      <td>Thursday: Be back home by 11:15 pm at the latest.</td>\n",
       "    </tr>\n",
       "    <tr>\n",
       "      <td>4</td>\n",
       "      <td>Friday: Take the train at 08:10 am, arrive at ...</td>\n",
       "    </tr>\n",
       "  </tbody>\n",
       "</table>\n",
       "</div>"
      ],
      "text/plain": [
       "                                                text\n",
       "0     Monday: The doctor's appointment is at 2:45pm.\n",
       "1  Tuesday: The dentist's appointment is at 11:30...\n",
       "2  Wednesday: At 7:00pm, there is a basketball game!\n",
       "3  Thursday: Be back home by 11:15 pm at the latest.\n",
       "4  Friday: Take the train at 08:10 am, arrive at ..."
      ]
     },
     "execution_count": 19,
     "metadata": {},
     "output_type": "execute_result"
    }
   ],
   "source": [
    "import pandas as pd\n",
    "\n",
    "time_sentences = [\"Monday: The doctor's appointment is at 2:45pm.\", \n",
    "                  \"Tuesday: The dentist's appointment is at 11:30 am.\",\n",
    "                  \"Wednesday: At 7:00pm, there is a basketball game!\",\n",
    "                  \"Thursday: Be back home by 11:15 pm at the latest.\",\n",
    "                  \"Friday: Take the train at 08:10 am, arrive at 09:00am.\"]\n",
    "\n",
    "df = pd.DataFrame(time_sentences, columns=['text'])\n",
    "df"
   ]
  },
  {
   "cell_type": "code",
   "execution_count": 20,
   "metadata": {},
   "outputs": [
    {
     "data": {
      "text/plain": [
       "0    46\n",
       "1    50\n",
       "2    49\n",
       "3    49\n",
       "4    54\n",
       "Name: text, dtype: int64"
      ]
     },
     "execution_count": 20,
     "metadata": {},
     "output_type": "execute_result"
    }
   ],
   "source": [
    "# find the number of characters for each string in df['text']\n",
    "df['text'].str.len()"
   ]
  },
  {
   "cell_type": "code",
   "execution_count": 21,
   "metadata": {},
   "outputs": [
    {
     "data": {
      "text/plain": [
       "0     7\n",
       "1     8\n",
       "2     8\n",
       "3    10\n",
       "4    10\n",
       "Name: text, dtype: int64"
      ]
     },
     "execution_count": 21,
     "metadata": {},
     "output_type": "execute_result"
    }
   ],
   "source": [
    "# find the number of tokens for each string in df['text']\n",
    "df['text'].str.split().str.len()"
   ]
  },
  {
   "cell_type": "code",
   "execution_count": 22,
   "metadata": {},
   "outputs": [
    {
     "data": {
      "text/plain": [
       "0     True\n",
       "1     True\n",
       "2    False\n",
       "3    False\n",
       "4    False\n",
       "Name: text, dtype: bool"
      ]
     },
     "execution_count": 22,
     "metadata": {},
     "output_type": "execute_result"
    }
   ],
   "source": [
    "# find which entries contain the word 'appointment'\n",
    "df['text'].str.contains('appointment')"
   ]
  },
  {
   "cell_type": "code",
   "execution_count": 23,
   "metadata": {},
   "outputs": [
    {
     "data": {
      "text/plain": [
       "0    3\n",
       "1    4\n",
       "2    3\n",
       "3    4\n",
       "4    8\n",
       "Name: text, dtype: int64"
      ]
     },
     "execution_count": 23,
     "metadata": {},
     "output_type": "execute_result"
    }
   ],
   "source": [
    "# find how many times a digit occurs in each string\n",
    "df['text'].str.count(r'\\d')"
   ]
  },
  {
   "cell_type": "code",
   "execution_count": 24,
   "metadata": {},
   "outputs": [
    {
     "data": {
      "text/plain": [
       "0                   [2, 4, 5]\n",
       "1                [1, 1, 3, 0]\n",
       "2                   [7, 0, 0]\n",
       "3                [1, 1, 1, 5]\n",
       "4    [0, 8, 1, 0, 0, 9, 0, 0]\n",
       "Name: text, dtype: object"
      ]
     },
     "execution_count": 24,
     "metadata": {},
     "output_type": "execute_result"
    }
   ],
   "source": [
    "# find all occurances of the digits\n",
    "df['text'].str.findall(r'\\d')"
   ]
  },
  {
   "cell_type": "code",
   "execution_count": 25,
   "metadata": {},
   "outputs": [
    {
     "data": {
      "text/plain": [
       "0               [(2, 45)]\n",
       "1              [(11, 30)]\n",
       "2               [(7, 00)]\n",
       "3              [(11, 15)]\n",
       "4    [(08, 10), (09, 00)]\n",
       "Name: text, dtype: object"
      ]
     },
     "execution_count": 25,
     "metadata": {},
     "output_type": "execute_result"
    }
   ],
   "source": [
    "# group and find the hours and minutes\n",
    "df['text'].str.findall(r'(\\d?\\d):(\\d\\d)')"
   ]
  },
  {
   "cell_type": "code",
   "execution_count": 26,
   "metadata": {},
   "outputs": [
    {
     "data": {
      "text/plain": [
       "0          ???: The doctor's appointment is at 2:45pm.\n",
       "1       ???: The dentist's appointment is at 11:30 am.\n",
       "2          ???: At 7:00pm, there is a basketball game!\n",
       "3         ???: Be back home by 11:15 pm at the latest.\n",
       "4    ???: Take the train at 08:10 am, arrive at 09:...\n",
       "Name: text, dtype: object"
      ]
     },
     "execution_count": 26,
     "metadata": {},
     "output_type": "execute_result"
    }
   ],
   "source": [
    "# replace weekdays with '???'\n",
    "df['text'].str.replace(r'\\w+day\\b', '???')"
   ]
  },
  {
   "cell_type": "code",
   "execution_count": 27,
   "metadata": {},
   "outputs": [
    {
     "data": {
      "text/plain": [
       "0          Mon: The doctor's appointment is at 2:45pm.\n",
       "1       Tue: The dentist's appointment is at 11:30 am.\n",
       "2          Wed: At 7:00pm, there is a basketball game!\n",
       "3         Thu: Be back home by 11:15 pm at the latest.\n",
       "4    Fri: Take the train at 08:10 am, arrive at 09:...\n",
       "Name: text, dtype: object"
      ]
     },
     "execution_count": 27,
     "metadata": {},
     "output_type": "execute_result"
    }
   ],
   "source": [
    "# replace weekdays with 3 letter abbrevations\n",
    "df['text'].str.replace(r'(\\w+day\\b)', lambda x: x.groups()[0][:3])"
   ]
  },
  {
   "cell_type": "code",
   "execution_count": 28,
   "metadata": {},
   "outputs": [
    {
     "data": {
      "text/html": [
       "<div>\n",
       "<style scoped>\n",
       "    .dataframe tbody tr th:only-of-type {\n",
       "        vertical-align: middle;\n",
       "    }\n",
       "\n",
       "    .dataframe tbody tr th {\n",
       "        vertical-align: top;\n",
       "    }\n",
       "\n",
       "    .dataframe thead th {\n",
       "        text-align: right;\n",
       "    }\n",
       "</style>\n",
       "<table border=\"1\" class=\"dataframe\">\n",
       "  <thead>\n",
       "    <tr style=\"text-align: right;\">\n",
       "      <th></th>\n",
       "      <th>0</th>\n",
       "      <th>1</th>\n",
       "    </tr>\n",
       "  </thead>\n",
       "  <tbody>\n",
       "    <tr>\n",
       "      <td>0</td>\n",
       "      <td>2</td>\n",
       "      <td>45</td>\n",
       "    </tr>\n",
       "    <tr>\n",
       "      <td>1</td>\n",
       "      <td>11</td>\n",
       "      <td>30</td>\n",
       "    </tr>\n",
       "    <tr>\n",
       "      <td>2</td>\n",
       "      <td>7</td>\n",
       "      <td>00</td>\n",
       "    </tr>\n",
       "    <tr>\n",
       "      <td>3</td>\n",
       "      <td>11</td>\n",
       "      <td>15</td>\n",
       "    </tr>\n",
       "    <tr>\n",
       "      <td>4</td>\n",
       "      <td>08</td>\n",
       "      <td>10</td>\n",
       "    </tr>\n",
       "  </tbody>\n",
       "</table>\n",
       "</div>"
      ],
      "text/plain": [
       "    0   1\n",
       "0   2  45\n",
       "1  11  30\n",
       "2   7  00\n",
       "3  11  15\n",
       "4  08  10"
      ]
     },
     "execution_count": 28,
     "metadata": {},
     "output_type": "execute_result"
    }
   ],
   "source": [
    "# create new columns from first match of extracted groups\n",
    "df['text'].str.extract(r'(\\d?\\d):(\\d\\d)')"
   ]
  },
  {
   "cell_type": "code",
   "execution_count": 29,
   "metadata": {},
   "outputs": [
    {
     "data": {
      "text/html": [
       "<div>\n",
       "<style scoped>\n",
       "    .dataframe tbody tr th:only-of-type {\n",
       "        vertical-align: middle;\n",
       "    }\n",
       "\n",
       "    .dataframe tbody tr th {\n",
       "        vertical-align: top;\n",
       "    }\n",
       "\n",
       "    .dataframe thead th {\n",
       "        text-align: right;\n",
       "    }\n",
       "</style>\n",
       "<table border=\"1\" class=\"dataframe\">\n",
       "  <thead>\n",
       "    <tr style=\"text-align: right;\">\n",
       "      <th></th>\n",
       "      <th></th>\n",
       "      <th>0</th>\n",
       "      <th>1</th>\n",
       "      <th>2</th>\n",
       "      <th>3</th>\n",
       "    </tr>\n",
       "    <tr>\n",
       "      <th></th>\n",
       "      <th>match</th>\n",
       "      <th></th>\n",
       "      <th></th>\n",
       "      <th></th>\n",
       "      <th></th>\n",
       "    </tr>\n",
       "  </thead>\n",
       "  <tbody>\n",
       "    <tr>\n",
       "      <td>0</td>\n",
       "      <td>0</td>\n",
       "      <td>2:45pm</td>\n",
       "      <td>2</td>\n",
       "      <td>45</td>\n",
       "      <td>pm</td>\n",
       "    </tr>\n",
       "    <tr>\n",
       "      <td>1</td>\n",
       "      <td>0</td>\n",
       "      <td>11:30 am</td>\n",
       "      <td>11</td>\n",
       "      <td>30</td>\n",
       "      <td>am</td>\n",
       "    </tr>\n",
       "    <tr>\n",
       "      <td>2</td>\n",
       "      <td>0</td>\n",
       "      <td>7:00pm</td>\n",
       "      <td>7</td>\n",
       "      <td>00</td>\n",
       "      <td>pm</td>\n",
       "    </tr>\n",
       "    <tr>\n",
       "      <td>3</td>\n",
       "      <td>0</td>\n",
       "      <td>11:15 pm</td>\n",
       "      <td>11</td>\n",
       "      <td>15</td>\n",
       "      <td>pm</td>\n",
       "    </tr>\n",
       "    <tr>\n",
       "      <td rowspan=\"2\" valign=\"top\">4</td>\n",
       "      <td>0</td>\n",
       "      <td>08:10 am</td>\n",
       "      <td>08</td>\n",
       "      <td>10</td>\n",
       "      <td>am</td>\n",
       "    </tr>\n",
       "    <tr>\n",
       "      <td>1</td>\n",
       "      <td>09:00am</td>\n",
       "      <td>09</td>\n",
       "      <td>00</td>\n",
       "      <td>am</td>\n",
       "    </tr>\n",
       "  </tbody>\n",
       "</table>\n",
       "</div>"
      ],
      "text/plain": [
       "                0   1   2   3\n",
       "  match                      \n",
       "0 0        2:45pm   2  45  pm\n",
       "1 0      11:30 am  11  30  am\n",
       "2 0        7:00pm   7  00  pm\n",
       "3 0      11:15 pm  11  15  pm\n",
       "4 0      08:10 am  08  10  am\n",
       "  1       09:00am  09  00  am"
      ]
     },
     "execution_count": 29,
     "metadata": {},
     "output_type": "execute_result"
    }
   ],
   "source": [
    "# extract the entire time, the hours, the minutes, and the period\n",
    "df['text'].str.extractall(r'((\\d?\\d):(\\d\\d) ?([ap]m))')"
   ]
  },
  {
   "cell_type": "code",
   "execution_count": 30,
   "metadata": {
    "scrolled": true
   },
   "outputs": [
    {
     "data": {
      "text/html": [
       "<div>\n",
       "<style scoped>\n",
       "    .dataframe tbody tr th:only-of-type {\n",
       "        vertical-align: middle;\n",
       "    }\n",
       "\n",
       "    .dataframe tbody tr th {\n",
       "        vertical-align: top;\n",
       "    }\n",
       "\n",
       "    .dataframe thead th {\n",
       "        text-align: right;\n",
       "    }\n",
       "</style>\n",
       "<table border=\"1\" class=\"dataframe\">\n",
       "  <thead>\n",
       "    <tr style=\"text-align: right;\">\n",
       "      <th></th>\n",
       "      <th></th>\n",
       "      <th>time</th>\n",
       "      <th>hour</th>\n",
       "      <th>minute</th>\n",
       "      <th>period</th>\n",
       "    </tr>\n",
       "    <tr>\n",
       "      <th></th>\n",
       "      <th>match</th>\n",
       "      <th></th>\n",
       "      <th></th>\n",
       "      <th></th>\n",
       "      <th></th>\n",
       "    </tr>\n",
       "  </thead>\n",
       "  <tbody>\n",
       "    <tr>\n",
       "      <td>0</td>\n",
       "      <td>0</td>\n",
       "      <td>2:45pm</td>\n",
       "      <td>2</td>\n",
       "      <td>45</td>\n",
       "      <td>pm</td>\n",
       "    </tr>\n",
       "    <tr>\n",
       "      <td>1</td>\n",
       "      <td>0</td>\n",
       "      <td>11:30 am</td>\n",
       "      <td>11</td>\n",
       "      <td>30</td>\n",
       "      <td>am</td>\n",
       "    </tr>\n",
       "    <tr>\n",
       "      <td>2</td>\n",
       "      <td>0</td>\n",
       "      <td>7:00pm</td>\n",
       "      <td>7</td>\n",
       "      <td>00</td>\n",
       "      <td>pm</td>\n",
       "    </tr>\n",
       "    <tr>\n",
       "      <td>3</td>\n",
       "      <td>0</td>\n",
       "      <td>11:15 pm</td>\n",
       "      <td>11</td>\n",
       "      <td>15</td>\n",
       "      <td>pm</td>\n",
       "    </tr>\n",
       "    <tr>\n",
       "      <td rowspan=\"2\" valign=\"top\">4</td>\n",
       "      <td>0</td>\n",
       "      <td>08:10 am</td>\n",
       "      <td>08</td>\n",
       "      <td>10</td>\n",
       "      <td>am</td>\n",
       "    </tr>\n",
       "    <tr>\n",
       "      <td>1</td>\n",
       "      <td>09:00am</td>\n",
       "      <td>09</td>\n",
       "      <td>00</td>\n",
       "      <td>am</td>\n",
       "    </tr>\n",
       "  </tbody>\n",
       "</table>\n",
       "</div>"
      ],
      "text/plain": [
       "             time hour minute period\n",
       "  match                             \n",
       "0 0        2:45pm    2     45     pm\n",
       "1 0      11:30 am   11     30     am\n",
       "2 0        7:00pm    7     00     pm\n",
       "3 0      11:15 pm   11     15     pm\n",
       "4 0      08:10 am   08     10     am\n",
       "  1       09:00am   09     00     am"
      ]
     },
     "execution_count": 30,
     "metadata": {},
     "output_type": "execute_result"
    }
   ],
   "source": [
    "# extract the entire time, the hours, the minutes, and the period with group names\n",
    "df['text'].str.extractall(r'(?P<time>(?P<hour>\\d?\\d):(?P<minute>\\d\\d) ?(?P<period>[ap]m))')"
   ]
  },
  {
   "cell_type": "markdown",
   "metadata": {},
   "source": [
    "You may realize there is nothing for you to answer. This section is ungraded, but you are strongly recommended to read&understand this section before moving on. "
   ]
  },
  {
   "cell_type": "markdown",
   "metadata": {},
   "source": [
    "## Exercise 2: Word Frequencies"
   ]
  },
  {
   "cell_type": "markdown",
   "metadata": {},
   "source": [
    "We live in a multi-lingual world. The languages we use are like English in some ways and distinct from English in many ways. In this exercise, we will explore some aspects of languages that make them different from English by the use of quantitative indices. \n",
    "\n",
    "Before we begin comparing languages, let us begin with English. How many words are there in English? Well, that depends on who we ask. The Second Edition of the 20-volume Oxford English Dictionary contains full entries for 171,476 words in current use (and 47,156 obsolete words). Looking elsewhere, Webster's Third New International Dictionary, Unabridged, together with its 1993 Addenda Section, includes some 470,000 entries. But, the number of words in the Oxford and Webster Dictionaries are not the same as the number of words in English. Why is that? First, it takes a while for dictionary publishers like Oxford University and Merriam-Webster to include new words in their dictionaries. While it may seem surprising new words are being coined at a rapid rate, a recent article in The Guardian reports that English speakers are adding new words at the rate of around 1,000 a year. Recent dictionary debutants include blog, grok, crowdfunding, hackathon, airball, e-marketing, sudoku, twerk and Brexit, many of which are words we find in use in our everyday lives. Slang and jargon could also be considered in this list. You have probably observed how some of these terms depend on where you live (e.g., 'prepone' in India means the opposite of postpone), whereas others are common in many places (e.g. the portmanteau, brunch = breakfast + lunch).\n",
    "\n",
    "A natural question that arises in this setting is, are all words equally likely, or do they occur with different frequencies? As you can expect, words occur with different frequencies, but what you would would not have expected is how skewed the word frequencies can be. That is what you will see in your first exercise. \n",
    "\n",
    "First, you will count the frequency of words from a word list derived from a large collection of words -- a 'corpus' (meaning 'a body of text'). For this part of the exercise, you will use the corpus of Reuters from which you will count the number of times each word occurs.\n",
    "                                                                                                                     For this, you will need to do some tokenization. Towards that, you will lowercase all words, remove the punctuation marks and numbers. Then you will use NLTK to get the frequency distribution of the tokenized text.\n",
    "                                                                                                                     \n",
    "Based on the frequency distribution of word that you will collect, you will answer the following questions.\n",
    "\n",
    "* What are the 10 most frequent words?\n",
    "* What are the 10 least frequent words?\n",
    "* What proportion of words have a frequency of 1? These singleton words are termed 'hapax legomena' (a sophisticated Greek name) and the numebr of singletons in a corpus is a measure of the richness of the vocabulary of that collection, giving you the rate at which new words appear in that text. If you take a very large text in a language and call it representative of that language, then the rate of singletons is a measure of its richness.\n",
    "* What are the answers to the above questions, if we consider stemming or lemmatization? \n",
    "\n",
    "**Total points: 50 points**"
   ]
  },
  {
   "cell_type": "markdown",
   "metadata": {},
   "source": [
    "### Coding Questions\n",
    "\n",
    "a. In the lab1.py file, complete the function \"get_freqs\" that takes as an input the \"Reuters\" corpus (type str) from nltk and returns as an output a dictionary with the key being a word, and the value being the frequency of the word in the corpus.\n",
    "Make sure to lowercase all words in the corpus and to replace all punctuations and digits with a space character. This will take care of tokenization for you. To avoid confusion, the list of punctuation marks are given to you. (15 points)"
   ]
  },
  {
   "cell_type": "code",
   "execution_count": 66,
   "metadata": {
    "nbgrader": {
     "grade": false,
     "grade_id": "cell-053fc5a44cfd341b",
     "locked": false,
     "schema_version": 3,
     "solution": true,
     "task": false
    }
   },
   "outputs": [],
   "source": [
    "puncts = ['.','!','?',',',';',':','[', ']', '{', '}', '(', ')', '\\'', '\\\"']"
   ]
  },
  {
   "cell_type": "code",
   "execution_count": 103,
   "metadata": {},
   "outputs": [],
   "source": [
    "importlib.reload(lab1)\n",
    "raw_corpus = nltk.corpus.reuters.raw()\n",
    "freqs = lab1.get_freqs(raw_corpus, puncts)"
   ]
  },
  {
   "cell_type": "code",
   "execution_count": 104,
   "metadata": {},
   "outputs": [
    {
     "data": {
      "text/plain": [
       "{'asian': 63,\n",
       " 'exporters': 255,\n",
       " 'fear': 51,\n",
       " 'damage': 141,\n",
       " 'from': 8217,\n",
       " 'u': 6316,\n",
       " 's': 15601,\n",
       " '-japan': 22,\n",
       " 'rift': 3,\n",
       " 'mounting': 22,\n",
       " 'trade': 3059,\n",
       " 'friction': 29,\n",
       " 'between': 1076,\n",
       " 'the': 69246,\n",
       " 'and': 25617,\n",
       " 'japan': 1836,\n",
       " 'has': 4864,\n",
       " 'raised': 351,\n",
       " 'fears': 80,\n",
       " 'among': 290,\n",
       " 'many': 349,\n",
       " 'of': 36749,\n",
       " 'asia': 69,\n",
       " 'exporting': 68,\n",
       " 'nations': 438,\n",
       " 'that': 7540,\n",
       " 'row': 110,\n",
       " 'could': 1468,\n",
       " 'inflict': 1,\n",
       " 'far-reaching': 2,\n",
       " 'economic': 1022,\n",
       " 'businessmen': 59,\n",
       " 'officials': 969,\n",
       " 'said': 25382,\n",
       " 'they': 2595,\n",
       " 'told': 1427,\n",
       " 'reuter': 72,\n",
       " 'correspondents': 7,\n",
       " 'in': 29217,\n",
       " 'capitals': 7,\n",
       " 'a': 24940,\n",
       " 'move': 450,\n",
       " 'against': 1492,\n",
       " 'might': 402,\n",
       " 'boost': 222,\n",
       " 'protectionist': 90,\n",
       " 'sentiment': 64,\n",
       " 'lead': 269,\n",
       " 'to': 36278,\n",
       " 'curbs': 44,\n",
       " 'on': 9094,\n",
       " 'american': 967,\n",
       " 'imports': 943,\n",
       " 'their': 1370,\n",
       " 'products': 845,\n",
       " 'but': 3600,\n",
       " 'some': 1422,\n",
       " 'while': 934,\n",
       " 'conflict': 37,\n",
       " 'would': 4671,\n",
       " 'hurt': 76,\n",
       " 'them': 402,\n",
       " 'long-run': 4,\n",
       " 'short-term': 170,\n",
       " 'tokyo': 274,\n",
       " 'loss': 5115,\n",
       " 'be': 6353,\n",
       " 'gain': 784,\n",
       " 'it': 11100,\n",
       " 'will': 5950,\n",
       " 'impose': 75,\n",
       " 'mln': 18598,\n",
       " 'dlrs': 12330,\n",
       " 'tariffs': 259,\n",
       " 'japanese': 938,\n",
       " 'electronics': 124,\n",
       " 'goods': 404,\n",
       " 'april': 1973,\n",
       " 'retaliation': 127,\n",
       " 'for': 13419,\n",
       " 'alleged': 51,\n",
       " 'failure': 114,\n",
       " 'stick': 22,\n",
       " 'pact': 428,\n",
       " 'not': 4384,\n",
       " 'sell': 767,\n",
       " 'semiconductors': 79,\n",
       " 'world': 1163,\n",
       " 'markets': 809,\n",
       " 'at': 7014,\n",
       " 'below': 462,\n",
       " 'cost': 431,\n",
       " 'unofficial': 8,\n",
       " 'estimates': 262,\n",
       " 'put': 317,\n",
       " 'impact': 248,\n",
       " 'billion': 5809,\n",
       " 'spokesmen': 18,\n",
       " 'major': 1000,\n",
       " 'firms': 341,\n",
       " 'virtually': 47,\n",
       " 'halt': 53,\n",
       " 'exports': 1207,\n",
       " 'hit': 215,\n",
       " 'by': 7082,\n",
       " 'new': 2704,\n",
       " 'taxes': 131,\n",
       " 'we': 1595,\n",
       " 'wouldn': 17,\n",
       " 't': 477,\n",
       " 'able': 160,\n",
       " 'do': 463,\n",
       " 'business': 931,\n",
       " 'spokesman': 969,\n",
       " 'leading': 245,\n",
       " 'firm': 596,\n",
       " 'matsushita': 3,\n",
       " 'electric': 141,\n",
       " 'industrial': 606,\n",
       " 'co': 1757,\n",
       " 'ltd': 1001,\n",
       " '&lt': 8573,\n",
       " 'mc': 2,\n",
       " 't>': 99,\n",
       " 'if': 1554,\n",
       " 'remain': 316,\n",
       " 'place': 189,\n",
       " 'any': 925,\n",
       " 'length': 14,\n",
       " 'time': 778,\n",
       " 'beyond': 51,\n",
       " 'few': 218,\n",
       " 'months': 1020,\n",
       " 'mean': 90,\n",
       " 'complete': 132,\n",
       " 'erosion': 13,\n",
       " 'subject': 373,\n",
       " 'tom': 21,\n",
       " 'murtha': 6,\n",
       " 'stock': 2625,\n",
       " 'analyst': 350,\n",
       " 'office': 235,\n",
       " 'broker': 57,\n",
       " 'james': 198,\n",
       " 'capel': 30,\n",
       " 'co>': 82,\n",
       " 'taiwan': 345,\n",
       " 'are': 3215,\n",
       " 'also': 2532,\n",
       " 'worried': 40,\n",
       " 'aware': 40,\n",
       " 'seriousness': 3,\n",
       " 'threat': 73,\n",
       " 'because': 1076,\n",
       " 'serves': 25,\n",
       " 'as': 4523,\n",
       " 'warning': 37,\n",
       " 'us': 203,\n",
       " 'senior': 277,\n",
       " 'taiwanese': 17,\n",
       " 'official': 1174,\n",
       " 'who': 608,\n",
       " 'asked': 412,\n",
       " 'named': 107,\n",
       " 'had': 2975,\n",
       " 'surplus': 713,\n",
       " 'last': 3227,\n",
       " 'year': 6715,\n",
       " 'pct': 9771,\n",
       " 'with': 6179,\n",
       " 'helped': 115,\n",
       " 'swell': 2,\n",
       " 'foreign': 1424,\n",
       " 'exchange': 1599,\n",
       " 'reserves': 794,\n",
       " 'largest': 377,\n",
       " 'must': 339,\n",
       " 'quickly': 98,\n",
       " 'open': 398,\n",
       " 'our': 503,\n",
       " 'remove': 43,\n",
       " 'barriers': 65,\n",
       " 'cut': 882,\n",
       " 'import': 404,\n",
       " 'allow': 216,\n",
       " 'want': 206,\n",
       " 'defuse': 9,\n",
       " 'problems': 263,\n",
       " 'possible': 409,\n",
       " 'paul': 100,\n",
       " 'sheen': 1,\n",
       " 'chairman': 736,\n",
       " 'textile': 65,\n",
       " 'safe': 12,\n",
       " 'group>': 14,\n",
       " 'south': 632,\n",
       " 'korea': 224,\n",
       " 'promotion': 22,\n",
       " 'association': 414,\n",
       " 'dispute': 166,\n",
       " 'pressure': 281,\n",
       " 'whose': 85,\n",
       " 'chief': 309,\n",
       " 'similar': 165,\n",
       " 'those': 398,\n",
       " 'up': 2190,\n",
       " 'malaysia': 140,\n",
       " 'officers': 43,\n",
       " 'tough': 62,\n",
       " 'hard-hit': 4,\n",
       " 'producers': 565,\n",
       " 'third': 429,\n",
       " 'countries': 944,\n",
       " 'expand': 148,\n",
       " 'sales': 2212,\n",
       " 'hong': 160,\n",
       " 'kong': 161,\n",
       " 'where': 263,\n",
       " 'newspapers': 34,\n",
       " 'have': 3107,\n",
       " 'been': 2070,\n",
       " 'selling': 270,\n",
       " 'below-cost': 2,\n",
       " 'manufacturers': 97,\n",
       " 'share': 3085,\n",
       " 'view': 149,\n",
       " 'other': 1652,\n",
       " 'such': 684,\n",
       " 'commercial': 321,\n",
       " 'advantage': 53,\n",
       " 'outweighed': 6,\n",
       " 'further': 887,\n",
       " 'block': 123,\n",
       " 'is': 7666,\n",
       " 'very': 428,\n",
       " 'lawrence': 23,\n",
       " 'mills': 80,\n",
       " 'director-general': 8,\n",
       " 'federation': 74,\n",
       " 'industry': 1038,\n",
       " 'whole': 104,\n",
       " 'purpose': 37,\n",
       " 'prevent': 113,\n",
       " 'one': 2534,\n",
       " 'day': 469,\n",
       " 'extended': 149,\n",
       " 'sources': 877,\n",
       " 'much': 489,\n",
       " 'more': 1881,\n",
       " 'serious': 115,\n",
       " 'disadvantage': 8,\n",
       " 'action': 461,\n",
       " 'restraining': 16,\n",
       " 'he': 5208,\n",
       " 'was': 5816,\n",
       " 'biggest': 94,\n",
       " 'export': 1041,\n",
       " 'market': 2789,\n",
       " 'accounting': 142,\n",
       " 'over': 1409,\n",
       " 'domestically': 20,\n",
       " 'produced': 186,\n",
       " 'australian': 246,\n",
       " 'government': 1706,\n",
       " 'awaiting': 28,\n",
       " 'outcome': 45,\n",
       " 'talks': 721,\n",
       " 'interest': 1361,\n",
       " 'concern': 200,\n",
       " 'minister': 736,\n",
       " 'john': 134,\n",
       " 'button': 2,\n",
       " 'canberra': 2,\n",
       " 'friday': 315,\n",
       " 'this': 3516,\n",
       " 'kind': 53,\n",
       " 'deterioration': 34,\n",
       " 'relations': 90,\n",
       " 'two': 2275,\n",
       " 'which': 3664,\n",
       " 'trading': 770,\n",
       " 'partners': 295,\n",
       " 'ours': 5,\n",
       " 'matter': 72,\n",
       " 'australia': 270,\n",
       " 'concerns': 56,\n",
       " 'centred': 9,\n",
       " 'coal': 107,\n",
       " 'beef': 208,\n",
       " 'significant': 187,\n",
       " 'country': 515,\n",
       " 'meanwhile': 55,\n",
       " '-japanese': 19,\n",
       " 'diplomatic': 34,\n",
       " 'manoeuvres': 3,\n",
       " 'solve': 39,\n",
       " 'stand-off': 1,\n",
       " 'continue': 567,\n",
       " 'ruling': 126,\n",
       " 'liberal': 34,\n",
       " 'democratic': 44,\n",
       " 'party': 115,\n",
       " 'yesterday': 692,\n",
       " 'outlined': 34,\n",
       " 'package': 155,\n",
       " 'measures': 287,\n",
       " 'economy': 620,\n",
       " 'proposed': 552,\n",
       " 'include': 466,\n",
       " 'large': 342,\n",
       " 'supplementary': 8,\n",
       " 'budget': 492,\n",
       " 'record': 1293,\n",
       " 'public': 464,\n",
       " 'works': 39,\n",
       " 'spending': 255,\n",
       " 'first': 1878,\n",
       " 'half': 545,\n",
       " 'financial': 916,\n",
       " 'call': 187,\n",
       " 'stepped-up': 5,\n",
       " 'an': 4543,\n",
       " 'emergency': 66,\n",
       " 'measure': 140,\n",
       " 'stimulate': 85,\n",
       " 'despite': 302,\n",
       " 'prime': 387,\n",
       " 'yasuhiro': 41,\n",
       " 'nakasone': 122,\n",
       " 'avowed': 1,\n",
       " 'fiscal': 535,\n",
       " 'reform': 116,\n",
       " 'program': 542,\n",
       " 'deputy': 91,\n",
       " 'representative': 122,\n",
       " 'michael': 79,\n",
       " 'smith': 82,\n",
       " 'makoto': 6,\n",
       " 'kuroda': 12,\n",
       " 'international': 1412,\n",
       " 'miti': 88,\n",
       " 'due': 871,\n",
       " 'meet': 299,\n",
       " 'washington': 357,\n",
       " 'week': 1581,\n",
       " 'effort': 129,\n",
       " 'end': 963,\n",
       " 'china': 495,\n",
       " 'daily': 264,\n",
       " 'says': 895,\n",
       " 'vermin': 2,\n",
       " 'eat': 6,\n",
       " '-': 2615,\n",
       " 'grain': 678,\n",
       " 'stocks': 520,\n",
       " 'survey': 103,\n",
       " 'provinces': 29,\n",
       " 'seven': 582,\n",
       " 'cities': 19,\n",
       " 'showed': 270,\n",
       " 'consume': 4,\n",
       " 'each': 545,\n",
       " 'tonnes': 2508,\n",
       " 'or': 3218,\n",
       " 'fruit': 25,\n",
       " 'output': 696,\n",
       " 'left': 131,\n",
       " 'rot': 11,\n",
       " 'its': 7402,\n",
       " 'vegetables': 13,\n",
       " 'paper': 176,\n",
       " 'blamed': 30,\n",
       " 'waste': 92,\n",
       " 'inadequate': 38,\n",
       " 'storage': 97,\n",
       " 'bad': 70,\n",
       " 'preservation': 5,\n",
       " 'methods': 36,\n",
       " 'launched': 84,\n",
       " 'national': 917,\n",
       " 'programme': 47,\n",
       " 'reduce': 387,\n",
       " 'calling': 45,\n",
       " 'improved': 193,\n",
       " 'technology': 197,\n",
       " 'greater': 155,\n",
       " 'production': 1455,\n",
       " 'additives': 3,\n",
       " 'gave': 208,\n",
       " 'no': 1490,\n",
       " 'details': 267,\n",
       " 'revise': 20,\n",
       " 'long-term': 179,\n",
       " 'energy': 545,\n",
       " 'demand': 649,\n",
       " 'downwards': 19,\n",
       " 'ministry': 552,\n",
       " 'supply/demand': 32,\n",
       " 'outlook': 158,\n",
       " 'august': 243,\n",
       " 'forecast': 531,\n",
       " 'downtrend': 5,\n",
       " 'expected': 1373,\n",
       " 'lower': 846,\n",
       " 'projection': 19,\n",
       " 'primary': 156,\n",
       " 'supplies': 194,\n",
       " 'kilolitres': 1,\n",
       " 'kl': 2,\n",
       " 'decision': 350,\n",
       " 'follows': 129,\n",
       " 'emergence': 3,\n",
       " 'structural': 32,\n",
       " 'changes': 273,\n",
       " 'following': 397,\n",
       " 'rise': 1322,\n",
       " 'value': 536,\n",
       " 'yen': 869,\n",
       " 'decline': 430,\n",
       " 'domestic': 696,\n",
       " 'power': 203,\n",
       " 'planning': 118,\n",
       " 'work': 289,\n",
       " 'out': 754,\n",
       " 'revised': 374,\n",
       " 'through': 721,\n",
       " 'deliberations': 5,\n",
       " 'committee': 452,\n",
       " 'meetings': 111,\n",
       " 'agency': 341,\n",
       " 'natural': 291,\n",
       " 'resources': 359,\n",
       " 'review': 204,\n",
       " 'breakdown': 42,\n",
       " 'supply': 577,\n",
       " 'including': 536,\n",
       " 'oil': 3187,\n",
       " 'nuclear': 50,\n",
       " 'gas': 804,\n",
       " 'provided': 156,\n",
       " 'bulk': 88,\n",
       " 'ended': 742,\n",
       " 'march': 2005,\n",
       " 'supplying': 16,\n",
       " 'estimated': 569,\n",
       " 'kilowatt/hour': 1,\n",
       " 'basis': 372,\n",
       " 'followed': 111,\n",
       " 'liquefied': 12,\n",
       " 'noted': 368,\n",
       " 'thai': 75,\n",
       " 'deficit': 869,\n",
       " 'widens': 10,\n",
       " 'quarter': 1788,\n",
       " 'thailand': 110,\n",
       " 'widened': 35,\n",
       " 'baht': 20,\n",
       " 'ago': 510,\n",
       " 'economics': 48,\n",
       " 'department': 983,\n",
       " 'janunary/march': 1,\n",
       " 'rose': 1366,\n",
       " 'climate': 32,\n",
       " 'resulted': 92,\n",
       " 'increase': 1170,\n",
       " 'raw': 96,\n",
       " 'materials': 127,\n",
       " 'semi-finished': 8,\n",
       " 'bill': 467,\n",
       " 'however': 632,\n",
       " 'fell': 894,\n",
       " 'prices': 2193,\n",
       " 'expanded': 56,\n",
       " 'growth': 1158,\n",
       " 'smaller': 87,\n",
       " 'than': 1771,\n",
       " 'earnings': 1078,\n",
       " 'key': 236,\n",
       " 'commodities': 126,\n",
       " 'rice': 193,\n",
       " 'declined': 380,\n",
       " 'maize': 220,\n",
       " 'sugar': 783,\n",
       " 'tin': 150,\n",
       " 'canned': 10,\n",
       " 'pineapples': 1,\n",
       " 'registering': 5,\n",
       " 'high': 588,\n",
       " 'were': 3092,\n",
       " 'jewellery': 5,\n",
       " 'clothing': 16,\n",
       " 'rubber': 223,\n",
       " 'indonesia': 228,\n",
       " 'sees': 473,\n",
       " 'cpo': 15,\n",
       " 'price': 1793,\n",
       " 'rising': 294,\n",
       " 'sharply': 241,\n",
       " 'expects': 628,\n",
       " 'crude': 746,\n",
       " 'palm': 161,\n",
       " 'tonne': 302,\n",
       " 'fob': 67,\n",
       " 'sometime': 17,\n",
       " 'better': 242,\n",
       " 'european': 650,\n",
       " 'fall': 748,\n",
       " 'malaysian': 81,\n",
       " 'hasrul': 1,\n",
       " 'harahap': 3,\n",
       " 'junior': 19,\n",
       " 'tree': 8,\n",
       " 'crops': 167,\n",
       " 'indonesian': 78,\n",
       " 'reporters': 259,\n",
       " 'sumatran': 2,\n",
       " 'now': 953,\n",
       " 'around': 859,\n",
       " 'cif': 36,\n",
       " 'delivery': 210,\n",
       " 'rotterdam': 48,\n",
       " 'traders': 588,\n",
       " 'maintain': 156,\n",
       " 'making': 344,\n",
       " 'recent': 591,\n",
       " 'purchases': 255,\n",
       " 'so': 498,\n",
       " 'possibly': 72,\n",
       " 'second': 502,\n",
       " 'producer': 281,\n",
       " 'after': 1958,\n",
       " 'forced': 83,\n",
       " 'ensure': 56,\n",
       " 'during': 674,\n",
       " 'moslem': 3,\n",
       " 'fasting': 3,\n",
       " 'month': 1116,\n",
       " 'ramadan': 8,\n",
       " 'cover': 138,\n",
       " 'temporary': 139,\n",
       " 'shortage': 154,\n",
       " 'lose': 41,\n",
       " 'calendar': 120,\n",
       " 'according': 360,\n",
       " 'central': 881,\n",
       " 'bank': 3578,\n",
       " 'figures': 696,\n",
       " 'ship': 119,\n",
       " 'ban': 61,\n",
       " 'ends': 119,\n",
       " 'nsw': 14,\n",
       " 'ports': 84,\n",
       " 'tug': 9,\n",
       " 'crews': 14,\n",
       " 'wales': 16,\n",
       " 'victoria': 14,\n",
       " 'western': 338,\n",
       " 'lifted': 49,\n",
       " 'foreign-flag': 4,\n",
       " 'ships': 185,\n",
       " 'carrying': 42,\n",
       " 'containers': 13,\n",
       " 'still': 632,\n",
       " 'being': 554,\n",
       " 'disrupted': 16,\n",
       " 'separate': 77,\n",
       " 'shipping': 222,\n",
       " 'imposed': 82,\n",
       " 'pay': 910,\n",
       " 'claim': 29,\n",
       " 'prevented': 21,\n",
       " 'movement': 68,\n",
       " 'port': 217,\n",
       " 'nearly': 166,\n",
       " 'vessels': 99,\n",
       " 'went': 96,\n",
       " 'before': 766,\n",
       " 'hearing': 64,\n",
       " 'arbitration': 19,\n",
       " 'commission': 735,\n",
       " 'today': 1445,\n",
       " 'disruption': 16,\n",
       " 'began': 217,\n",
       " 'cargo': 114,\n",
       " 'handling': 38,\n",
       " 'sydney': 22,\n",
       " 'newcastle': 6,\n",
       " 'kembla': 3,\n",
       " 'part': 532,\n",
       " 'called': 290,\n",
       " 'trades': 36,\n",
       " 'labour': 93,\n",
       " 'council': 363,\n",
       " 'protest': 54,\n",
       " 'state': 585,\n",
       " 'workers': 240,\n",
       " 'compensation': 39,\n",
       " 'laws': 97,\n",
       " 'various': 110,\n",
       " 'unions': 58,\n",
       " 'appear': 47,\n",
       " 'taking': 192,\n",
       " 'turn': 66,\n",
       " 'short': 256,\n",
       " 'start': 308,\n",
       " 'shift': 59,\n",
       " 'then': 243,\n",
       " 'walk': 4,\n",
       " 'off': 488,\n",
       " 'container': 48,\n",
       " 'movements': 64,\n",
       " 'most': 607,\n",
       " 'affected': 166,\n",
       " 'stopped': 46,\n",
       " 'altogether': 7,\n",
       " 'say': 466,\n",
       " 'how': 265,\n",
       " 'long': 390,\n",
       " 'go': 236,\n",
       " 'what': 430,\n",
       " 'effect': 300,\n",
       " 'commodity': 267,\n",
       " 'may': 2056,\n",
       " 'likely': 588,\n",
       " 'least': 312,\n",
       " 'paian': 1,\n",
       " 'nainggolan': 3,\n",
       " 'reuters': 530,\n",
       " 'telephone': 148,\n",
       " 'interview': 166,\n",
       " 'sawn': 1,\n",
       " 'timber': 21,\n",
       " 'pepper': 2,\n",
       " 'tobacco': 43,\n",
       " 'considered': 132,\n",
       " 'either': 117,\n",
       " 'refined': 77,\n",
       " 'introduced': 81,\n",
       " 'question': 129,\n",
       " 'rachmat': 3,\n",
       " 'saleh': 6,\n",
       " 'when': 921,\n",
       " 'ahead': 163,\n",
       " 'made': 952,\n",
       " 'fledgling': 4,\n",
       " 'currently': 330,\n",
       " 'coffee': 665,\n",
       " 'physicals': 7,\n",
       " 'outcry': 2,\n",
       " 'system': 644,\n",
       " 'four': 894,\n",
       " 'days': 497,\n",
       " 'several': 386,\n",
       " 'factors': 168,\n",
       " 'make': 590,\n",
       " 'cautiously': 13,\n",
       " 'slowly': 24,\n",
       " 'safely': 11,\n",
       " 'mistake': 10,\n",
       " 'undermine': 14,\n",
       " 'confidence': 75,\n",
       " 'physical': 35,\n",
       " 'added': 1108,\n",
       " 'january': 1667,\n",
       " 'contracts': 231,\n",
       " 'traded': 137,\n",
       " 'five': 1195,\n",
       " 'forward': 101,\n",
       " 'robusta': 15,\n",
       " 'grades': 76,\n",
       " 'prompt': 33,\n",
       " 'board': 1151,\n",
       " 'considering': 158,\n",
       " 'introduction': 47,\n",
       " 'futures': 380,\n",
       " 'later': 330,\n",
       " 'feasibility': 32,\n",
       " 'study': 225,\n",
       " 'needed': 217,\n",
       " 'decisions': 61,\n",
       " 'until': 423,\n",
       " 'elections': 27,\n",
       " 'monday': 240,\n",
       " 'should': 853,\n",
       " 'marketing': 318,\n",
       " 'hoped': 70,\n",
       " 'development': 495,\n",
       " 'help': 478,\n",
       " 'trying': 109,\n",
       " 'overseas': 152,\n",
       " 'building': 131,\n",
       " 'contacts': 20,\n",
       " 'end-users': 11,\n",
       " 'teams': 8,\n",
       " 'already': 453,\n",
       " 'encourage': 87,\n",
       " 'direct': 112,\n",
       " 'use': 386,\n",
       " 'delegation': 46,\n",
       " 'visit': 103,\n",
       " 'europe': 230,\n",
       " 'mexico': 104,\n",
       " 'latin': 62,\n",
       " 'states': 848,\n",
       " 'participation': 72,\n",
       " 'infant': 2,\n",
       " 'good': 360,\n",
       " 'although': 324,\n",
       " 'disappointing': 16,\n",
       " 'transactions': 152,\n",
       " 'december': 915,\n",
       " 'totalled': 165,\n",
       " 'worth': 275,\n",
       " 'plus': 176,\n",
       " 'rupiah': 15,\n",
       " 'delivered': 48,\n",
       " 'locally': 12,\n",
       " 'latest': 305,\n",
       " 'report': 962,\n",
       " 'amounted': 45,\n",
       " 'only': 837,\n",
       " 'lots': 21,\n",
       " 'valued': 113,\n",
       " 'total': 1318,\n",
       " 'membership': 33,\n",
       " 'nine': 1263,\n",
       " 'brokers': 93,\n",
       " 'sri': 54,\n",
       " 'lanka': 48,\n",
       " 'gets': 83,\n",
       " 'usda': 511,\n",
       " 'approval': 382,\n",
       " 'wheat': 1016,\n",
       " 'food': 285,\n",
       " 'agriculture': 662,\n",
       " 'approved': 380,\n",
       " 'continental': 139,\n",
       " 'sale': 1061,\n",
       " 'soft': 88,\n",
       " 'c': 247,\n",
       " 'f': 186,\n",
       " 'pacific': 348,\n",
       " 'northwest': 49,\n",
       " 'colombo': 11,\n",
       " 'shipment': 187,\n",
       " 'mining': 230,\n",
       " 'gold': 650,\n",
       " 'mine': 274,\n",
       " 'corp': 3152,\n",
       " 'holdings': 336,\n",
       " 'wmng': 2,\n",
       " 's>': 112,\n",
       " 'wmc': 6,\n",
       " 'establish': 58,\n",
       " 'joint': 286,\n",
       " 'venture': 228,\n",
       " 'northern': 160,\n",
       " 'territory': 15,\n",
       " 'about': 2812,\n",
       " 'known': 87,\n",
       " 'goodall': 1,\n",
       " 'project': 150,\n",
       " 'owned': 385,\n",
       " 'local': 231,\n",
       " 'w': 88,\n",
       " 'r': 67,\n",
       " 'grace': 27,\n",
       " 'gra>': 4,\n",
       " 'unit': 1037,\n",
       " 'located': 61,\n",
       " 'kms': 9,\n",
       " 'east': 229,\n",
       " 'adelaide': 4,\n",
       " 'river': 108,\n",
       " 'mt': 40,\n",
       " 'bundey': 1,\n",
       " 'statement': 793,\n",
       " 'open-pit': 3,\n",
       " 'conventional': 14,\n",
       " 'leach': 5,\n",
       " 'treatment': 41,\n",
       " 'plant': 358,\n",
       " 'produce': 161,\n",
       " 'ounces': 172,\n",
       " 'mid-': 49,\n",
       " 'annual': 624,\n",
       " 'ore': 155,\n",
       " 'capacity': 242,\n",
       " 'sumitomo': 41,\n",
       " 'aims': 34,\n",
       " 'quick': 32,\n",
       " 'recovery': 134,\n",
       " 'merger': 790,\n",
       " 'sumi': 1,\n",
       " 'certain': 323,\n",
       " 'status': 65,\n",
       " 'profitable': 84,\n",
       " 'result': 445,\n",
       " 'heiwa': 4,\n",
       " 'sogo': 4,\n",
       " 'analysts': 941,\n",
       " 'osaka-based': 1,\n",
       " 'desposits': 1,\n",
       " 'trillion': 27,\n",
       " 'merged': 54,\n",
       " 'small': 220,\n",
       " 'struggling': 7,\n",
       " 'unrecoverable': 1,\n",
       " 'loans': 474,\n",
       " 'october': 330,\n",
       " 'link-up': 2,\n",
       " 'president': 839,\n",
       " 'koh': 1,\n",
       " 'komatsu': 11,\n",
       " 'confident': 82,\n",
       " 'his': 672,\n",
       " 'can': 607,\n",
       " 'regain': 13,\n",
       " 'position': 285,\n",
       " 'll': 39,\n",
       " 'back': 318,\n",
       " 'within': 348,\n",
       " 'three': 1366,\n",
       " 'years': 853,\n",
       " 'initially': 52,\n",
       " 'profitability': 57,\n",
       " 'efficiency': 22,\n",
       " 'vastly': 3,\n",
       " 'branch': 58,\n",
       " 'network': 103,\n",
       " 'metropolitan': 37,\n",
       " 'area': 317,\n",
       " 'relatively': 97,\n",
       " 'weak': 104,\n",
       " 'divided': 36,\n",
       " 'whether': 327,\n",
       " 'gamble': 4,\n",
       " 'paid': 304,\n",
       " 'too': 254,\n",
       " 'debts': 53,\n",
       " 'others': 116,\n",
       " 'argue': 23,\n",
       " 'effective': 406,\n",
       " 'creating': 21,\n",
       " 'comparable': 46,\n",
       " 'scratch': 1,\n",
       " 'agreed': 907,\n",
       " 'aggressive': 41,\n",
       " 'entered': 123,\n",
       " 'lucrative': 7,\n",
       " 'securities': 837,\n",
       " 'geared': 8,\n",
       " 'competition': 143,\n",
       " 'questioned': 25,\n",
       " 'wisdom': 5,\n",
       " 'moves': 141,\n",
       " 've': 75,\n",
       " 'bold': 10,\n",
       " 'everything': 19,\n",
       " 'largely': 127,\n",
       " 'hands': 69,\n",
       " 'kleinwort': 20,\n",
       " 'benson': 13,\n",
       " 'simon': 33,\n",
       " 'smithson': 8,\n",
       " 'limits': 85,\n",
       " 'placed': 76,\n",
       " 'enter': 65,\n",
       " 'investment': 951,\n",
       " 'goldman': 35,\n",
       " 'sachs': 48,\n",
       " 'limited': 202,\n",
       " 'partnership': 187,\n",
       " 'federal': 836,\n",
       " 'reserve': 496,\n",
       " 'forbidden': 1,\n",
       " 'personnel': 35,\n",
       " 'tie-up': 3,\n",
       " 'widely': 49,\n",
       " 'looked': 27,\n",
       " 'lame': 1,\n",
       " 'duck': 1,\n",
       " 'fed': 685,\n",
       " 'stricter': 7,\n",
       " 'regulations': 58,\n",
       " 'change': 428,\n",
       " 'near': 231,\n",
       " 'future': 406,\n",
       " 'things': 61,\n",
       " 'wait': 45,\n",
       " 'st': 687,\n",
       " 'century': 33,\n",
       " 'willing': 86,\n",
       " 'patient': 8,\n",
       " 'routes': 20,\n",
       " 'into': 1020,\n",
       " 'home': 232,\n",
       " 'article': 29,\n",
       " 'act': 173,\n",
       " 'version': 19,\n",
       " 'glass-steagall': 1,\n",
       " 'separates': 2,\n",
       " 'banking': 368,\n",
       " 'walls': 4,\n",
       " 'crumbling': 2,\n",
       " 'hopes': 93,\n",
       " 'deregulation': 38,\n",
       " 'create': 66,\n",
       " 'opportunities': 59,\n",
       " 'need': 342,\n",
       " 'find': 135,\n",
       " 'chances': 40,\n",
       " 'cases': 54,\n",
       " 'these': 457,\n",
       " 'related': 154,\n",
       " 'trust': 331,\n",
       " 'occur': 44,\n",
       " 'focus': 62,\n",
       " 'bond': 253,\n",
       " 'dealing': 44,\n",
       " 'strengthening': 31,\n",
       " 'meiko': 1,\n",
       " 'holds': 175,\n",
       " 'optimistic': 80,\n",
       " 'entering': 25,\n",
       " 'here': 364,\n",
       " 'swiss': 163,\n",
       " 'universal': 37,\n",
       " 'subsidiary': 629,\n",
       " 'banca': 8,\n",
       " 'del': 39,\n",
       " 'gottardo': 2,\n",
       " 'finance': 560,\n",
       " 'grant': 38,\n",
       " 'licences': 80,\n",
       " 'subsidiaries': 108,\n",
       " 'banks': 1008,\n",
       " 'soon': 219,\n",
       " 'parent': 155,\n",
       " 'less': 412,\n",
       " 'reluctant': 31,\n",
       " 'push': 80,\n",
       " 'hard': 141,\n",
       " 'don': 191,\n",
       " 'waves': 5,\n",
       " 'expect': 283,\n",
       " 'allowed': 125,\n",
       " 'like': 194,\n",
       " 'city': 221,\n",
       " 'pushing': 34,\n",
       " 'lending': 208,\n",
       " 'individuals': 30,\n",
       " 'medium': 57,\n",
       " 'businesses': 195,\n",
       " 'replace': 50,\n",
       " 'disappearing': 4,\n",
       " 'big': 104,\n",
       " 'devote': 1,\n",
       " 'lot': 91,\n",
       " 'digesting': 1,\n",
       " 'initiatives': 15,\n",
       " 'ailing': 14,\n",
       " 'strategies': 10,\n",
       " 'absorbing': 5,\n",
       " 'juggling': 1,\n",
       " 'next': 775,\n",
       " 'decade': 28,\n",
       " 'see': 339,\n",
       " 'strategy': 104,\n",
       " 'right': 221,\n",
       " 'wrong': 14,\n",
       " 'subroto': 37,\n",
       " 'supports': 42,\n",
       " 'extension': 67,\n",
       " 'mines': 174,\n",
       " 'confirmed': 97,\n",
       " 'support': 401,\n",
       " 'sixth': 29,\n",
       " 'agreement': 1550,\n",
       " 'ita': 9,\n",
       " 'necessary': 162,\n",
       " 'clarify': 9,\n",
       " 'lapse': 5,\n",
       " 'ready': 75,\n",
       " 'seventh': 11,\n",
       " 'accord': 410,\n",
       " 'believe': 188,\n",
       " 'unnecessary': 11,\n",
       " 'expire': 73,\n",
       " 'june': 688,\n",
       " 'unless': 150,\n",
       " 'two-thirds': 34,\n",
       " 'majority': 138,\n",
       " 'members': 331,\n",
       " 'vote': 128,\n",
       " 'bundesbank': 355,\n",
       " 'allocates': 6,\n",
       " 'marks': 571,\n",
       " 'tender': 749,\n",
       " 'accepted': 141,\n",
       " ...}"
      ]
     },
     "execution_count": 104,
     "metadata": {},
     "output_type": "execute_result"
    }
   ],
   "source": [
    "freqs"
   ]
  },
  {
   "cell_type": "markdown",
   "metadata": {},
   "source": [
    "b. Next, complete the function called \"get_top_10\" that takes in the \"freqs\" dictionary, and returns the top 10 most frequent words as a list. (5 points)"
   ]
  },
  {
   "cell_type": "code",
   "execution_count": 105,
   "metadata": {
    "nbgrader": {
     "grade": false,
     "grade_id": "cell-4aec5a37bbd4cef5",
     "locked": false,
     "schema_version": 3,
     "solution": true,
     "task": false
    }
   },
   "outputs": [
    {
     "name": "stdout",
     "output_type": "stream",
     "text": [
      "['the', 'of', 'to', 'in', 'and', 'said', 'a', 'mln', 's', 'vs']\n"
     ]
    }
   ],
   "source": [
    "importlib.reload(lab1)\n",
    "print(lab1.get_top_10(freqs))"
   ]
  },
  {
   "cell_type": "code",
   "execution_count": 106,
   "metadata": {
    "nbgrader": {
     "grade": true,
     "grade_id": "cell-76c42b84f8038afc",
     "locked": true,
     "points": 20,
     "schema_version": 3,
     "solution": false,
     "task": false
    }
   },
   "outputs": [],
   "source": [
    "### BEGIN HIDDEN TESTS\n",
    "assert lab1.get_top_10(freqs) == ['the', 'of', 'to', 'in', 'and', 'said', 'a', 'mln', 's', 'vs']\n",
    "### END HIDDEN TESTS"
   ]
  },
  {
   "cell_type": "markdown",
   "metadata": {},
   "source": [
    "c. Next, complete the function called \"get_bottom_10\" that takes in the \"freqs\" dictionary, and returns the top 10 least frequent words as a list. (5 points)"
   ]
  },
  {
   "cell_type": "code",
   "execution_count": 107,
   "metadata": {
    "nbgrader": {
     "grade": false,
     "grade_id": "cell-f7d5084d8b86ea60",
     "locked": false,
     "schema_version": 3,
     "solution": true,
     "task": false
    }
   },
   "outputs": [
    {
     "name": "stdout",
     "output_type": "stream",
     "text": [
      "['krn>', 'additivies', 'genecor', 'multimillion', 'communciate', 'franchising', 'rejuvenation', 'nineth', 'politically-inhibited', 'messerschmitt-boelkow-blohm']\n"
     ]
    }
   ],
   "source": [
    "importlib.reload(lab1)\n",
    "print(lab1.get_bottom_10(freqs))"
   ]
  },
  {
   "cell_type": "code",
   "execution_count": 108,
   "metadata": {
    "nbgrader": {
     "grade": true,
     "grade_id": "cell-eedc6f45889eadd8",
     "locked": true,
     "points": 5,
     "schema_version": 3,
     "solution": false,
     "task": false
    }
   },
   "outputs": [
    {
     "ename": "AssertionError",
     "evalue": "",
     "output_type": "error",
     "traceback": [
      "\u001b[0;31m---------------------------------------------------------------------------\u001b[0m",
      "\u001b[0;31mAssertionError\u001b[0m                            Traceback (most recent call last)",
      "\u001b[0;32m<ipython-input-108-6a1ab39d1353>\u001b[0m in \u001b[0;36m<module>\u001b[0;34m\u001b[0m\n\u001b[1;32m      1\u001b[0m \u001b[0;31m### BEGIN HIDDEN TESTS\u001b[0m\u001b[0;34m\u001b[0m\u001b[0;34m\u001b[0m\u001b[0;34m\u001b[0m\u001b[0m\n\u001b[0;32m----> 2\u001b[0;31m \u001b[0;32massert\u001b[0m \u001b[0mlab1\u001b[0m\u001b[0;34m.\u001b[0m\u001b[0mget_bottom_10\u001b[0m\u001b[0;34m(\u001b[0m\u001b[0mfreqs\u001b[0m\u001b[0;34m)\u001b[0m \u001b[0;34m==\u001b[0m \u001b[0;34m[\u001b[0m\u001b[0;34m'inflict'\u001b[0m\u001b[0;34m,\u001b[0m \u001b[0;34m'sheen'\u001b[0m\u001b[0;34m,\u001b[0m \u001b[0;34m'stand-off'\u001b[0m\u001b[0;34m,\u001b[0m \u001b[0;34m'avowed'\u001b[0m\u001b[0;34m,\u001b[0m \u001b[0;34m'kilolitres'\u001b[0m\u001b[0;34m,\u001b[0m \u001b[0;34m'kilowatt/hour'\u001b[0m\u001b[0;34m,\u001b[0m \u001b[0;34m'janunary/march'\u001b[0m\u001b[0;34m,\u001b[0m \u001b[0;34m'pineapples'\u001b[0m\u001b[0;34m,\u001b[0m \u001b[0;34m'hasrul'\u001b[0m\u001b[0;34m,\u001b[0m \u001b[0;34m'paian'\u001b[0m\u001b[0;34m]\u001b[0m\u001b[0;34m\u001b[0m\u001b[0;34m\u001b[0m\u001b[0m\n\u001b[0m\u001b[1;32m      3\u001b[0m \u001b[0;31m### END HIDDEN TESTS\u001b[0m\u001b[0;34m\u001b[0m\u001b[0;34m\u001b[0m\u001b[0;34m\u001b[0m\u001b[0m\n",
      "\u001b[0;31mAssertionError\u001b[0m: "
     ]
    }
   ],
   "source": [
    "### BEGIN HIDDEN TESTS\n",
    "assert lab1.get_bottom_10(freqs) == ['inflict', 'sheen', 'stand-off', 'avowed', 'kilolitres', 'kilowatt/hour', 'janunary/march', 'pineapples', 'hasrul', 'paian']\n",
    "### END HIDDEN TESTS"
   ]
  },
  {
   "cell_type": "markdown",
   "metadata": {},
   "source": [
    "d. Complete the function called \"get_percentage_singletons\" which takes in the \"freqs\" dictionary and returns a float value of the percentage of words that appear once in the corpus. (5 points)"
   ]
  },
  {
   "cell_type": "code",
   "execution_count": 111,
   "metadata": {
    "nbgrader": {
     "grade": false,
     "grade_id": "cell-a165768ae088ea2c",
     "locked": false,
     "schema_version": 3,
     "solution": true,
     "task": false
    }
   },
   "outputs": [
    {
     "name": "stdout",
     "output_type": "stream",
     "text": [
      "40.480636029633196\n"
     ]
    }
   ],
   "source": [
    "importlib.reload(lab1)\n",
    "print(lab1.get_percentage_singletons(freqs))"
   ]
  },
  {
   "cell_type": "code",
   "execution_count": 112,
   "metadata": {
    "nbgrader": {
     "grade": true,
     "grade_id": "cell-9e57695b3b6a675d",
     "locked": true,
     "points": 5,
     "schema_version": 3,
     "solution": false,
     "task": false
    }
   },
   "outputs": [],
   "source": [
    "### BEGIN HIDDEN TESTS\n",
    "assert (lab1.get_percentage_singletons(freqs)>40.4)\n",
    "assert (lab1.get_percentage_singletons(freqs)<40.6)\n",
    "### END HIDDEN TESTS"
   ]
  },
  {
   "cell_type": "markdown",
   "metadata": {},
   "source": [
    "e. The next two blocks show examples of how stemming and lemmatization are done. "
   ]
  },
  {
   "cell_type": "code",
   "execution_count": 113,
   "metadata": {},
   "outputs": [
    {
     "name": "stdout",
     "output_type": "stream",
     "text": [
      "cat\n",
      "troubl\n",
      "troubl\n",
      "troubl\n"
     ]
    }
   ],
   "source": [
    "from nltk.stem import PorterStemmer\n",
    "porter = PorterStemmer()\n",
    "print(porter.stem(\"cats\"))\n",
    "print(porter.stem(\"trouble\"))\n",
    "print(porter.stem(\"troubling\"))\n",
    "print(porter.stem(\"troubled\"))"
   ]
  },
  {
   "cell_type": "code",
   "execution_count": 116,
   "metadata": {
    "scrolled": true
   },
   "outputs": [
    {
     "name": "stdout",
     "output_type": "stream",
     "text": [
      "He                  He                  \n",
      "was                 be                  \n",
      "running             run                 \n",
      "and                 and                 \n",
      "eating              eat                 \n",
      "at                  at                  \n",
      "same                same                \n",
      "time.               time.               \n",
      "He                  He                  \n",
      "has                 have                \n",
      "bad                 bad                 \n",
      "habit               habit               \n",
      "of                  of                  \n",
      "swimming            swim                \n",
      "after               after               \n",
      "playing             play                \n",
      "long                long                \n",
      "hours               hours               \n",
      "in                  in                  \n",
      "the                 the                 \n",
      "Sun.                Sun.                \n"
     ]
    }
   ],
   "source": [
    "from nltk.stem import WordNetLemmatizer\n",
    "wordnet_lemmatizer = WordNetLemmatizer()\n",
    "sentence = \"He was running and eating at same time. He has bad habit of swimming after playing long hours in the Sun.\"\n",
    "for word in sentence.split():\n",
    "    print (\"{0:20}{1:20}\".format(word,wordnet_lemmatizer.lemmatize(word, pos=\"v\")))"
   ]
  },
  {
   "cell_type": "markdown",
   "metadata": {},
   "source": [
    "f. Repeat steps b,c,d by doing stemming. You should modify the get_freqs_stemming function. (5 points)"
   ]
  },
  {
   "cell_type": "code",
   "execution_count": 118,
   "metadata": {
    "nbgrader": {
     "grade": false,
     "grade_id": "cell-9e9343b8ca4c2880",
     "locked": false,
     "schema_version": 3,
     "solution": true,
     "task": false
    }
   },
   "outputs": [
    {
     "name": "stdout",
     "output_type": "stream",
     "text": [
      "['the', 'of', 'to', 'in', 'and', 'said', 'a', 'mln', 'it', 's']\n",
      "['krn>', 'additivi', 'genecor', 'rejuven', 'nineth', 'politically-inhibit', 'messerschmitt-boelkow-blohm', 'passau', 'zahnradfabrik', 'steinkuehl']\n",
      "42.06299945690123\n"
     ]
    }
   ],
   "source": [
    "importlib.reload(lab1)\n",
    "freqs_stemming = lab1.get_freqs_stemming(raw_corpus, puncts)\n",
    "print(lab1.get_top_10(freqs_stemming))\n",
    "print(lab1.get_bottom_10(freqs_stemming))\n",
    "print(lab1.get_percentage_singletons(freqs_stemming))"
   ]
  },
  {
   "cell_type": "code",
   "execution_count": 120,
   "metadata": {
    "nbgrader": {
     "grade": true,
     "grade_id": "cell-d58f04c1eef6cf43",
     "locked": true,
     "points": 5,
     "schema_version": 3,
     "solution": false,
     "task": false
    }
   },
   "outputs": [],
   "source": [
    "### BEGIN HIDDEN TESTS\n",
    "assert lab1.get_top_10(freqs_stemming) == ['the', 'of', 'to', 'in', 'and', 'said', 'a', 'mln', 'it', 's']\n",
    "#assert lab1.get_bottom_10(freqs_stemming) == ['inflict', 'sheen', 'stand-off', 'avow', 'kilolitr', 'kilowatt/hour', 'janunary/march', 'hasrul', 'paian', 'sawn']\n",
    "assert (lab1.get_percentage_singletons(freqs_stemming)>41.9)\n",
    "assert (lab1.get_percentage_singletons(freqs_stemming)<42.2)\n",
    "### END HIDDEN TESTS"
   ]
  },
  {
   "cell_type": "markdown",
   "metadata": {},
   "source": [
    "g. Repeat steps b,c,d by doing lemmatization. You should modify the get_freqs_lemmatized function.  (5 points)"
   ]
  },
  {
   "cell_type": "code",
   "execution_count": 122,
   "metadata": {
    "nbgrader": {
     "grade": false,
     "grade_id": "cell-f364b1fc291d7e74",
     "locked": false,
     "schema_version": 3,
     "solution": true,
     "task": false
    },
    "scrolled": true
   },
   "outputs": [
    {
     "name": "stdout",
     "output_type": "stream",
     "text": [
      "['the', 'of', 'to', 'in', 'be', 'say', 'and', 'a', 'mln', 's']\n",
      "['krn>', 'additivies', 'genecor', 'multimillion', 'communciate', 'rejuvenation', 'nineth', 'politically-inhibited', 'messerschmitt-boelkow-blohm', 'passau']\n",
      "42.03981813171673\n"
     ]
    }
   ],
   "source": [
    "importlib.reload(lab1)\n",
    "freqs_lemmatized = lab1.get_freqs_lemmatized(raw_corpus, puncts)\n",
    "print(lab1.get_top_10(freqs_lemmatized))\n",
    "print(lab1.get_bottom_10(freqs_lemmatized))\n",
    "print(lab1.get_percentage_singletons(freqs_lemmatized))"
   ]
  },
  {
   "cell_type": "code",
   "execution_count": 123,
   "metadata": {
    "nbgrader": {
     "grade": true,
     "grade_id": "cell-cad80b5f0643a89f",
     "locked": true,
     "points": 5,
     "schema_version": 3,
     "solution": false,
     "task": false
    }
   },
   "outputs": [],
   "source": [
    "### BEGIN HIDDEN TESTS\n",
    "assert lab1.get_top_10(freqs_lemmatized) == ['the', 'of', 'to', 'in', 'be', 'say', 'and', 'a', 'mln', 's']\n",
    "#assert lab1.get_bottom_10(freqs_lemmatized) == ['inflict', 'sheen', 'stand-off', 'avow', 'kilolitres', 'kilowatt/hour', 'janunary/march', 'pineapples', 'hasrul', 'paian']\n",
    "assert (lab1.get_percentage_singletons(freqs_lemmatized)>41.9)\n",
    "assert (lab1.get_percentage_singletons(freqs_lemmatized)<42.2)\n",
    "### END HIDDEN TESTS"
   ]
  },
  {
   "cell_type": "markdown",
   "metadata": {},
   "source": [
    "h. What is the vocabulary size of this corpus (i.e., raw_corpus)? How about the vocabulary size after doing stemming and lemmatization respectively? Note that we lowercase all words in the corpus and replace all punctuations and digits with empty spaces. Add your code to the size_of_raw_corpus, size_of_stemmed_raw_corpus and size_of_lemmatized_raw_corpus functions (5 points)"
   ]
  },
  {
   "cell_type": "code",
   "execution_count": 128,
   "metadata": {
    "nbgrader": {
     "grade": false,
     "grade_id": "cell-60cc741a45f09b60",
     "locked": false,
     "schema_version": 3,
     "solution": true,
     "task": false
    }
   },
   "outputs": [
    {
     "name": "stdout",
     "output_type": "stream",
     "text": [
      "33206\n",
      "25778\n",
      "29032\n"
     ]
    }
   ],
   "source": [
    "importlib.reload(lab1)\n",
    "print(lab1.size_of_raw_corpus(freqs))  # Vocalbulary size of raw_corpus. \n",
    "print(lab1.size_of_stemmed_raw_corpus(freqs_stemming))  # Vocalbulary size of raw_corpus after stemming. \n",
    "print(lab1.size_of_lemmatized_raw_corpus(freqs_lemmatized))  # Vocalbulary size of raw_corpus after lemmatization. "
   ]
  },
  {
   "cell_type": "code",
   "execution_count": 135,
   "metadata": {
    "nbgrader": {
     "grade": true,
     "grade_id": "cell-c3277367acf9daa0",
     "locked": true,
     "points": 5,
     "schema_version": 3,
     "solution": false,
     "task": false
    }
   },
   "outputs": [],
   "source": [
    "### BEGIN HIDDEN TESTS\n",
    "assert lab1.size_of_raw_corpus(freqs) == 33206\n",
    "assert lab1.size_of_stemmed_raw_corpus(freqs_stemming) == 25778\n",
    "assert lab1.size_of_lemmatized_raw_corpus(freqs_lemmatized) == 29032\n",
    "### END HIDDEN TESTS"
   ]
  },
  {
   "cell_type": "markdown",
   "metadata": {},
   "source": [
    "i. Different documents, even of equal length are usually composed of different vocabularies. We will compare two documents of equal length, and see the percentage of unseen vocabulary between them. \n",
    "\n",
    "More specifically, we have document \"a\" to be the first 100 words of raw_corpus and document \"b\" to be the last 100 words of raw_corpus. How many percent of words in document \"a\" does NOT appear in document \"b\"? What if we change the document size to be 1000 (first 1000 words of raw_corpus v.s. last 1000 words of raw_corpus), 10000, 100000, 500000? \n",
    "What do you observe with the document size increasing? You may find set(a)-set(b) is a useful function. Modify the percentage_of_unseen_vocab function (5 points)"
   ]
  },
  {
   "cell_type": "code",
   "execution_count": 140,
   "metadata": {
    "nbgrader": {
     "grade": true,
     "grade_id": "cell-3e819a96835cdc2b",
     "locked": false,
     "points": 5,
     "schema_version": 3,
     "solution": true,
     "task": false
    }
   },
   "outputs": [
    {
     "name": "stdout",
     "output_type": "stream",
     "text": [
      "0.79\n",
      "0.464\n",
      "0.2182\n",
      "0.10077\n",
      "0.052344\n"
     ]
    }
   ],
   "source": [
    "importlib.reload(lab1)\n",
    "length = [100,1000,10000,100000,500000]\n",
    "for length_i in length:\n",
    "    a = raw_corpus.split()[:length_i]\n",
    "    b = raw_corpus.split()[-length_i:]\n",
    "    print(lab1.percentage_of_unseen_vocab(a, b, length_i))\n",
    "    \n",
    "\n",
    "### Write down your observation here: (Ungraded) "
   ]
  },
  {
   "cell_type": "code",
   "execution_count": 141,
   "metadata": {
    "nbgrader": {
     "grade": true,
     "grade_id": "cell-3e391821c0e4a4d1",
     "locked": true,
     "points": 5,
     "schema_version": 3,
     "solution": false,
     "task": false
    }
   },
   "outputs": [],
   "source": [
    "### BEGIN HIDDEN TESTS\n",
    "assert lab1.percentage_of_unseen_vocab(raw_corpus.split()[:100], raw_corpus.split()[-100:], 100) == 0.79\n",
    "assert lab1.percentage_of_unseen_vocab(raw_corpus.split()[:1000], raw_corpus.split()[-1000:], 1000) == 0.464\n",
    "assert lab1.percentage_of_unseen_vocab(raw_corpus.split()[:10000], raw_corpus.split()[-10000:], 10000) == 0.2182\n",
    "assert lab1.percentage_of_unseen_vocab(raw_corpus.split()[:100000], raw_corpus.split()[-100000:], 100000) == 0.10077\n",
    "assert lab1.percentage_of_unseen_vocab(raw_corpus.split()[:500000], raw_corpus.split()[-500000:], 500000) == 0.052344\n",
    "\n",
    "### END HIDDEN TESTS"
   ]
  },
  {
   "cell_type": "markdown",
   "metadata": {},
   "source": [
    "## Exercise 3: Pareto principle"
   ]
  },
  {
   "cell_type": "markdown",
   "metadata": {},
   "source": [
    "The popular Pareto principle (also known as the 80/20 rule), states that for many events, roughly 80% of the effects come from 20% of the causes. This includes observations that found that the distribution of global income is very uneven, with the richest 20% of the world's population controlling 82.7% of the world's income. This seems to be the case with words as well. \n",
    "\n",
    "In this exercise, we observe something similar to the Pareto principle in words. By calculating what fraction of the most frequent words accounts for 80% of the total words in the corpus, you will see that a very small number of frequent words account for a large number of words. \n",
    "\n",
    "**Total points: 15 points**\n",
    "\n",
    "a. Complete the function called \"frac_80_perc\" which takes in \"freqs\" as an input, and returns a float representing the fraction of words that account for 80% of the tokens in the corpus (the expected answer is around 3% for Reuters corpus -- a News corpus). Note: you should be considering the words in decreasing order of frequency until reaching 80% of word (frequency) count.  (15 points)"
   ]
  },
  {
   "cell_type": "code",
   "execution_count": 142,
   "metadata": {
    "nbgrader": {
     "grade": false,
     "grade_id": "cell-7d532348cdd5379a",
     "locked": false,
     "schema_version": 3,
     "solution": true,
     "task": false
    }
   },
   "outputs": [
    {
     "name": "stdout",
     "output_type": "stream",
     "text": [
      "0.03333734867192676\n"
     ]
    }
   ],
   "source": [
    "importlib.reload(lab1)\n",
    "print(lab1.frac_80_perc(freqs))"
   ]
  },
  {
   "cell_type": "code",
   "execution_count": 143,
   "metadata": {
    "nbgrader": {
     "grade": true,
     "grade_id": "cell-d39b1cdba3cd5662",
     "locked": true,
     "points": 15,
     "schema_version": 3,
     "solution": false,
     "task": false
    }
   },
   "outputs": [],
   "source": [
    "### BEGIN HIDDEN TESTS\n",
    "assert lab1.frac_80_perc(freqs) > 0.033\n",
    "assert lab1.frac_80_perc(freqs) < 0.034\n",
    "### END HIDDEN TESTS"
   ]
  },
  {
   "cell_type": "markdown",
   "metadata": {},
   "source": [
    "This relation between the frequency and rank for words is called Zipf's law. It states that given a large sample of words used, the frequency of any word is inversely proportional to its rank in the frequency table. So word number n has a frequency proportional to 1/n. In order to see this, sort the words in a decreasing order of their frequencies and do a rank-frequency plot, with the words (indicated by their ranks) indicated along the x-axis and their frequencies in the y-axis.\n",
    "\n",
    "b. Accordingly, we will plot the frequency of words when ranked in decreasing order. Complete the function \"plot_zipf\" that takes in \"freqs\" as an input, and generates a plot using matplotlib. In this plot, the x-axis represents the rank of words in decreasing order of frequency, and the y-axis represents the frequency of the corresponding word. (Ungraded)"
   ]
  },
  {
   "cell_type": "code",
   "execution_count": 144,
   "metadata": {
    "nbgrader": {
     "grade": true,
     "grade_id": "cell-42ff4546787c495e",
     "locked": false,
     "points": 5,
     "schema_version": 3,
     "solution": true,
     "task": false
    }
   },
   "outputs": [],
   "source": [
    "import matplotlib.pyplot as plt"
   ]
  },
  {
   "cell_type": "code",
   "execution_count": 145,
   "metadata": {},
   "outputs": [],
   "source": [
    "importlib.reload(lab1)\n",
    "lab1.plot_zipf(freqs)"
   ]
  },
  {
   "cell_type": "markdown",
   "metadata": {},
   "source": [
    "## Exercise 4: Type-to-Token Ratio (TTR)"
   ]
  },
  {
   "cell_type": "markdown",
   "metadata": {},
   "source": [
    "Another way of measuring the richenss of vocabulary is by looking at the type-token distribution of words in a language. Word types are unique words in a corpus, whereas the tokens are the words in a corpus with repetition. And so, a sentence such as \"I am taking this class because I love taking on challenges\" has 11 tokens, but 9 types since the words \"I\" and \"taking\" are repeated twice. Accordingly, Type-to-Token Ratio (TTR) is the ratio of types to tokens, and the higher it is, the less words are repeated, and the richer is the language.\n",
    "\n",
    "**Total points: 15 points**\n",
    "\n",
    "a. In this exercise we will be exploring, for every language, the amount of \"types\" explored as we explore larger portions of the corpus, or tokens. We will be considering the Universal Declaration of Human Rights in 4 languages. Particularly, we will be plotting the amount of types explored per language as we explore 100 more tokens. For this exercise, complete the following function \"get_TTRs\" which takes in as an input a predefined set of languages, and returns as an output the dictionary TTR, which has a language as the key, and the value as a list showing the count of types as we explore 100 tokens, 200 tokens, 300 tokens, up until 1300 tokens of the respective corpus. Accordingly, each list in the dictionary should be made of 13 data points. Do not forget to lowercase, but you do not need to perform tokenization as the corpora now are actually a list of words instead of one string.  (15 points)"
   ]
  },
  {
   "cell_type": "code",
   "execution_count": 151,
   "metadata": {
    "nbgrader": {
     "grade": false,
     "grade_id": "cell-f89f433ea4675fed",
     "locked": false,
     "schema_version": 3,
     "solution": true,
     "task": false
    }
   },
   "outputs": [
    {
     "name": "stderr",
     "output_type": "stream",
     "text": [
      "[nltk_data] Downloading package udhr to\n",
      "[nltk_data]     /Users/mukhilshankar/nltk_data...\n",
      "[nltk_data]   Unzipping corpora/udhr.zip.\n"
     ]
    }
   ],
   "source": [
    "from nltk.corpus import udhr\n",
    "nltk.download('udhr')\n",
    "languages = ['Italian-Latin1', 'English-Latin1', 'German_Deutsch-Latin1', 'Finnish_Suomi-Latin1']"
   ]
  },
  {
   "cell_type": "code",
   "execution_count": 159,
   "metadata": {},
   "outputs": [
    {
     "name": "stdout",
     "output_type": "stream",
     "text": [
      "{'Italian-Latin1': [64, 110, 143, 179, 221, 260, 286, 326, 355, 386, 412, 426, 451], 'English-Latin1': [57, 99, 133, 167, 207, 231, 262, 292, 318, 339, 358, 381, 403], 'German_Deutsch-Latin1': [63, 113, 155, 204, 254, 284, 324, 358, 388, 418, 446, 475, 504], 'Finnish_Suomi-Latin1': [74, 137, 192, 252, 303, 356, 406, 459, 491, 537, 586, 631, 675]}\n"
     ]
    }
   ],
   "source": [
    "importlib.reload(lab1)\n",
    "TTRs = lab1.get_TTRs(languages)\n",
    "print(TTRs)"
   ]
  },
  {
   "cell_type": "code",
   "execution_count": 160,
   "metadata": {
    "nbgrader": {
     "grade": true,
     "grade_id": "cell-65fae85d3536e61a",
     "locked": true,
     "points": 15,
     "schema_version": 3,
     "solution": false,
     "task": false
    }
   },
   "outputs": [],
   "source": [
    "### BEGIN HIDDEN TESTS\n",
    "assert TTRs['Italian-Latin1'] == [64, 110, 143, 179, 221, 260, 286, 326, 355, 386, 412, 426, 451]\n",
    "assert TTRs['English-Latin1'] == [57, 99, 133, 167, 207, 231, 262, 292, 318, 339, 358, 381, 403]\n",
    "assert TTRs['German_Deutsch-Latin1'] == [63, 113, 155, 204, 254, 284, 324, 358, 388, 418, 446, 475, 504]\n",
    "assert TTRs['Finnish_Suomi-Latin1'] == [74, 137, 192, 252, 303, 356, 406, 459, 491, 537, 586, 631, 675]\n",
    "### END HIDDEN TESTS"
   ]
  },
  {
   "cell_type": "markdown",
   "metadata": {},
   "source": [
    "b. Next, plot a line graph (one line for every language, four lines in total) that shows the count of types discovered on the y-axis and the amount of tokens in the corpus discovered on the x-axis, in increments of 100 tokens, up to 1300. (Ungraded)"
   ]
  },
  {
   "cell_type": "code",
   "execution_count": null,
   "metadata": {
    "nbgrader": {
     "grade": true,
     "grade_id": "cell-8260219dae07a1cd",
     "locked": false,
     "points": 5,
     "schema_version": 3,
     "solution": true,
     "task": false
    }
   },
   "outputs": [],
   "source": [
    "import matplotlib.pyplot as plt\n",
    "importlib.reload(lab1)\n",
    "lab1.plot_TTRs(TTRs)"
   ]
  },
  {
   "cell_type": "markdown",
   "metadata": {},
   "source": [
    "c. Which language has the highest TTR? What could be driving the TTR? Share your thoughts in the textbox below: (Ungraded)"
   ]
  },
  {
   "cell_type": "markdown",
   "metadata": {
    "nbgrader": {
     "grade": true,
     "grade_id": "cell-97883af5aa5d83f4",
     "locked": false,
     "points": 5,
     "schema_version": 3,
     "solution": true,
     "task": false
    }
   },
   "source": [
    "**Share your thoughts here:** "
   ]
  },
  {
   "cell_type": "code",
   "execution_count": null,
   "metadata": {},
   "outputs": [],
   "source": []
  }
 ],
 "metadata": {
  "celltoolbar": "Create Assignment",
  "kernelspec": {
   "display_name": "Python 3",
   "language": "python",
   "name": "python3"
  },
  "language_info": {
   "codemirror_mode": {
    "name": "ipython",
    "version": 3
   },
   "file_extension": ".py",
   "mimetype": "text/x-python",
   "name": "python",
   "nbconvert_exporter": "python",
   "pygments_lexer": "ipython3",
   "version": "3.7.4"
  }
 },
 "nbformat": 4,
 "nbformat_minor": 2
}
